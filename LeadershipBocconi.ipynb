{
  "nbformat": 4,
  "nbformat_minor": 0,
  "metadata": {
    "colab": {
      "provenance": [],
      "collapsed_sections": [
        "81qjUchuZywx",
        "txnrpHUEfyZP",
        "T-Cv0335aDXG",
        "1bP-b1X9aJ4N",
        "FD3TxZzoZ8px",
        "K0rsHfG0f3kY",
        "hTnY-OWsjOwP",
        "nz8_Z1-VLjiy",
        "uvGUM1NM2kmk",
        "5MLlL0Wy7yIo",
        "q4q3Zl2y71XC",
        "lF87W9PO73NA",
        "25AEBSFqX9Y9",
        "7uSnZ-0DYK3O",
        "BU93Z568aBLc",
        "gfMXeGFLS_mW",
        "R2O3UUNP1hqi",
        "5oB4X3lu1hwR",
        "p968BHSo1inR",
        "o5oibf2R1izd",
        "VM4zW477mBlu",
        "IDMRPs8oP9hI",
        "nRJ0-UArQAeN",
        "vC83yrYopwFS",
        "Te4fbHmhvbAA",
        "lqS29gVOJLC9",
        "Bbn5MK52gNry",
        "f6DtFJCMZTZh",
        "2YrxjBqKHFYZ",
        "9m8YIr9Pd61G",
        "nbGr6LPWaePI",
        "0L9-BhYtdyuA"
      ],
      "authorship_tag": "ABX9TyNDPvTAd3Gm/q9nBBZpiOvZ",
      "include_colab_link": true
    },
    "kernelspec": {
      "name": "python3",
      "display_name": "Python 3"
    },
    "language_info": {
      "name": "python"
    }
  },
  "cells": [
    {
      "cell_type": "markdown",
      "metadata": {
        "id": "view-in-github",
        "colab_type": "text"
      },
      "source": [
        "<a href=\"https://colab.research.google.com/github/Pakpako95/LeadershipBocconi/blob/main/LeadershipBocconi.ipynb\" target=\"_parent\"><img src=\"https://colab.research.google.com/assets/colab-badge.svg\" alt=\"Open In Colab\"/></a>"
      ]
    },
    {
      "cell_type": "markdown",
      "source": [
        "# 🌐 **International Leadership and Organizational Behavior**"
      ],
      "metadata": {
        "id": "jTKQul4FZssd"
      }
    },
    {
      "cell_type": "markdown",
      "source": [
        "## 💠 **Module 1: LEADERSHIP ACUMEN**"
      ],
      "metadata": {
        "id": "81qjUchuZywx"
      }
    },
    {
      "cell_type": "markdown",
      "source": [
        "### ◽**COURSE OVERVIEW**"
      ],
      "metadata": {
        "id": "txnrpHUEfyZP"
      }
    },
    {
      "cell_type": "markdown",
      "source": [
        "#### **Introduction to the Course**"
      ],
      "metadata": {
        "id": "T-Cv0335aDXG"
      }
    },
    {
      "cell_type": "markdown",
      "source": [
        "**Benefit #1: Prepare for Your International Leadership Challenges**\n",
        "\n",
        " \"*Fortune favors the prepared mind*\" -*Louis Pasteur*\n",
        "\n",
        "**Benefit #2: Reflect on Your Own International Experience**\n",
        "\n",
        " \"*The unreflected life is not worth Living*\" -*Socrates*\n",
        "\n",
        " ___\n"
      ],
      "metadata": {
        "id": "-KCj2RFwbJ99"
      }
    },
    {
      "cell_type": "markdown",
      "source": [
        "**Our perspective on leadership (6 topic areas):**\n",
        "\n",
        "* ACUMEN\n",
        "* CULTURE\n",
        "* COMMUNICATION\n",
        "* MOTIVATION\n",
        "* SOCIAL NETWORKS\n",
        "* CONFLICT\n",
        "___"
      ],
      "metadata": {
        "id": "cqB4UEyRckTp"
      }
    },
    {
      "cell_type": "markdown",
      "source": [
        "**Two sets of dialectical tensions:**\n",
        "\n",
        "1. Global Issues\n",
        "2. Local Issues\n",
        "\n",
        "It is possible to integrate the global and the local, we can leverage local inside for global vision.\n",
        "\n",
        "**The second dimension of the framework:**\n",
        "\n",
        "1. Challenge\n",
        "2. Support\n",
        "\n",
        "Effective leaders support its followers but also challenge them.\n",
        "\n",
        "___\n",
        "\n"
      ],
      "metadata": {
        "id": "uN1NrwoTc2Bk"
      }
    },
    {
      "cell_type": "markdown",
      "source": [
        "#### **Surviving the Course**"
      ],
      "metadata": {
        "id": "1bP-b1X9aJ4N"
      }
    },
    {
      "cell_type": "markdown",
      "source": [
        "How can I effectively communicate across language barriers?\n",
        "\n",
        "How can I motivate individuals and teams if they have fundamentally different assumptions and values than myself?\n",
        "\n",
        "How can I foster and nurture relationships and networks across cultural and geographic divides?\n",
        "\n",
        "How can I manage conflicts?\n",
        "\n",
        "\n",
        "If you really want to learn how organizations behave and take decisions and at the same time develop leadership skills, then this is the course for you."
      ],
      "metadata": {
        "id": "ZW-WGtBDerKZ"
      }
    },
    {
      "cell_type": "markdown",
      "source": [
        "Why to take this course?\n",
        "\n",
        "**I just arrived in Milan from Mexico. I held a leadership position in Mexico, and I aim to achieve a similar role here in Italy. I’m confident that this course will help me clarify some ideas and better understand how to work within an organization that has a different culture, language, and way of working.  :)**"
      ],
      "metadata": {
        "id": "5r2CbeRefp-d"
      }
    },
    {
      "cell_type": "markdown",
      "source": [
        "### ◽**VIDEO LECTURES**"
      ],
      "metadata": {
        "id": "FD3TxZzoZ8px"
      }
    },
    {
      "cell_type": "markdown",
      "source": [
        "#### **Video 1. Introduction - Three Principles of Leadership**"
      ],
      "metadata": {
        "id": "K0rsHfG0f3kY"
      }
    },
    {
      "cell_type": "markdown",
      "source": [
        "**Principle #1. There is no standard formula for leadership. All leaders have their own unique approach.**\n",
        "\n",
        "Try to find your own style!\n",
        "\n",
        "**Principle #2. Leaders and followers have an interdependent relationship**\n",
        "\n",
        "Help your followers to be better!\n",
        "\n",
        "**Principle #3. Leaders need to be adaptive and flexible to be able to respond to a wide variety of circumstances**\n",
        "\n",
        "Adaptation is key!\n",
        "\n",
        "___\n"
      ],
      "metadata": {
        "id": "sPTnR3CqgATF"
      }
    },
    {
      "cell_type": "markdown",
      "source": [
        "#### **Video 2. FOCUS ON RESEARCH - Leadership from an International Organizational Behavior Perspective**"
      ],
      "metadata": {
        "id": "hTnY-OWsjOwP"
      }
    },
    {
      "cell_type": "markdown",
      "source": [
        "**Organization Behavior Research.**\n",
        "\n",
        "**OB Perspective in few words.** **Organizational Behavior (OB).** Explains differences and commonalities in individual and collective behavior in organizations with social science research.\n",
        "\n",
        "* Rigorous empirial research methods\n",
        "* High standards for developing generizable knowledge\n",
        "\n",
        "Strong emphasis in scientific approach to leadership. Understand the parts to make a result together.\n",
        "\n",
        "The International OB expplains differences and commonalitites in individual and collective behavior across countries or regions.\n",
        "\n",
        "* **Macro-Approach** -> Focus on country/regional level differences in cultural values, forms, etc.\n",
        "\n",
        "* **Micro-Approach** -> Focus on differences in cognitive and other psychological processes.\n",
        "\n",
        "Undestanding human behavior is basic to influence humans. Pay attention to people, understand differences, work with individuals.\n",
        "\n",
        "\"*There is nothing as practical as a good theory.*\" -*Kurt Lewin*\n",
        "___\n"
      ],
      "metadata": {
        "id": "1xgMjyTFgNq-"
      }
    },
    {
      "cell_type": "markdown",
      "source": [
        "#### **Video 3. FOCUS ON PRACTICE - Leadership Challenges**"
      ],
      "metadata": {
        "id": "nz8_Z1-VLjiy"
      }
    },
    {
      "cell_type": "markdown",
      "source": [
        "\n",
        "**COMPLEXITY:** Differences between countries. Local vision, local culture, economics.\n",
        "\n",
        "**UNCERTAINTY:** Doesn't know which will be the reaction, and this is exponential with different cultures.\n",
        "\n",
        "**RELATIONSHIPS:** People could not accept a foreign as a leader. **Tip:** Create a common ground.\n",
        "\n",
        "Leaders integrate, help their people to grow, understand their people. A leader needs followers. Always works in priorities. Work with clarity, be open to a different ways. Explain how you contribute and you have to interprate the local culture. Unifiy the vision. Choose your battles. Detect the behavior you must adopt depending of the kind of people.\n",
        "\n",
        "___\n"
      ],
      "metadata": {
        "id": "hYPgFhCcgNuE"
      }
    },
    {
      "cell_type": "markdown",
      "source": [
        "#### **Video 4. FOCUS ON PRACTICE - Leadership Opportunities**"
      ],
      "metadata": {
        "id": "uvGUM1NM2kmk"
      }
    },
    {
      "cell_type": "markdown",
      "source": [
        "**Leadership Opportunities**\n",
        "\n",
        "Embrace international leadership.\n",
        "\n",
        "Every country is a different stage, a different competition... Your growth is faster when you work in different countries. This multiplies the learning. You can learn from differences and multiculturality. It is a great opportunity to focus in what really matters not being distracted with styles.\n",
        "\n",
        "It helps to give you a new perspective, it gives you the opportunity to detect a global perspective, the barriers, pros and cons to collaborate. As international leader also you can make connections, foster connections.\n",
        "\n",
        "Develop leader capacity in challenging context. You must work harder to earn your leadership position and reflect in what makes a good leadership and experience with new leadership approaches.\n",
        "\n",
        "Global collaboration, share and learn. You can get significant alliances, take the strenghs of every culture and learn to be transnational leader.\n",
        "\n",
        "\n",
        "___\n"
      ],
      "metadata": {
        "id": "_LJfNAWNgNxG"
      }
    },
    {
      "cell_type": "markdown",
      "source": [
        "## 💠 **Module 2: NAVIGATING CULTURES**"
      ],
      "metadata": {
        "id": "5MLlL0Wy7yIo"
      }
    },
    {
      "cell_type": "markdown",
      "source": [
        "### ◽**VIDEO LECTURES**"
      ],
      "metadata": {
        "id": "q4q3Zl2y71XC"
      }
    },
    {
      "cell_type": "markdown",
      "source": [
        "#### **1. Introduction - Navigating Cultures**"
      ],
      "metadata": {
        "id": "lF87W9PO73NA"
      }
    },
    {
      "cell_type": "markdown",
      "source": [
        "**Defining Culture:** Internalized societal and cultural norms. Box of readily available tools.\n",
        "\n",
        "Culture provides you with these tools to interpret ambiguous cues.\n",
        "\n",
        "Frameworks to make cultural complexity more manageable is to dissect and classify elements to understand how the cultures operate. Other way is to fin differences and the unifiy.\n",
        "\n",
        "**Framework #1: Culture Onion**\n",
        "\n",
        "1. Artifacts (Visible) -> Outside\n",
        "2. Values (Espoused) Outside to Inside\n",
        "3. Assumptions (Hidden) -> Inside\n",
        "\n",
        "**Framework #2: Culture Dimensions**\n",
        "\n",
        "* **High Context:** meaning is implied by relationships, situations, etc.\n",
        "* **Low Context:** meaning is made explicit (usually verbally)\n",
        "\n",
        "Hofstede Culture Dimensions\n",
        "\n",
        "* High v Low Power Distance\n",
        "* High v Low Uncertainty Avoidance\n",
        "* Individualism v Collectivism\n",
        "* Feminity v Masculinity\n",
        "* Short Term v Long Term orientation\n",
        "* Indulgence v Restraint\n",
        "___\n"
      ],
      "metadata": {
        "id": "TLES4ksR75V4"
      }
    },
    {
      "cell_type": "markdown",
      "source": [
        "#### **2. FOCUS ON RESEARCH - Implicit Theories of Culture in Our Heads**"
      ],
      "metadata": {
        "id": "25AEBSFqX9Y9"
      }
    },
    {
      "cell_type": "markdown",
      "source": [
        "\"*Cultures have the same values that co-exist in different ways*\" -*Tony Fang*\n",
        "\n",
        "Implicit theories are sophisticated stereotypes that every human makes to prejudice (not in negative way) a person depending of their culture.\n",
        "\n",
        "**ETIC**\n",
        "\n",
        "* **Approach:** outsider, deductive, or top-down.\n",
        "\n",
        "* **Perspective** of the researcher\n",
        "\n",
        "* **Aim:** objective, universal knowledge\n",
        "\n",
        "You as an international leader you must try to understand how your followers think.\n",
        "\n",
        "\"*leadership involves a delicate combination of plumbing and poetry.*\" -*James G. March*\n",
        "\n",
        "___\n"
      ],
      "metadata": {
        "id": "i8nsxc5OX9Y-"
      }
    },
    {
      "cell_type": "markdown",
      "source": [
        "#### **3. CASE DISCUSSION - Decoding Cultures**"
      ],
      "metadata": {
        "id": "7uSnZ-0DYK3O"
      }
    },
    {
      "cell_type": "markdown",
      "source": [
        "**What would you write in your speech for your new team in a different country?**\n",
        "\n",
        "Observe and interact to understand deeper how they work and how would be the leader influence to get the objectives.\n",
        "\n",
        "Culture is complex and influences thought, behavior, and interaction.\n",
        "\n",
        "It exists at multiple levels: national, organizational, group, individual.\n",
        "\n",
        "Hofstede’s dimensions help analyze national culture (e.g., power distance, collectivism).\n",
        "\n",
        "**Culture traits:**\n",
        "\n",
        "* High power distance (respect hierarchy)\n",
        "\n",
        "* Collectivist (group-oriented)\n",
        "\n",
        "* High uncertainty avoidance (structure and rules matter)\n",
        "\n",
        "* High indulgence (work-life balance valued)\n",
        "\n",
        "* Emotionally expressive and demonstrative\n",
        "\n",
        "**Organizational culture:** global standards, collaboration, interdependence.\n",
        "\n",
        "**Detect local leadership influence**\n",
        "\n",
        "**Effective approach:**\n",
        "\n",
        "* Respect local culture and leadership\n",
        "\n",
        "* Blend global vision with local benefits\n",
        "\n",
        "* Emphasize trust, competence, positivity\n",
        "\n",
        "* Avoid being pushy, egocentric, or irritable\n",
        "\n",
        "**Communication style:**\n",
        "\n",
        "* Adapt emotionally\n",
        "\n",
        "* Be authentic and relatable\n",
        "\n",
        "**Goal: Develop a transnational leadership style—balanced, culturally aware, and globally competent.**\n",
        "\n",
        "___\n"
      ],
      "metadata": {
        "id": "RxJD9E_cYK3O"
      }
    },
    {
      "cell_type": "markdown",
      "source": [
        "#### **4. FOCUS ON PRACTICE - Cultural Intelligence**"
      ],
      "metadata": {
        "id": "BU93Z568aBLc"
      }
    },
    {
      "cell_type": "markdown",
      "source": [
        "You must have Emotional Intelligence + Cultural Intelligence.\n",
        "\n",
        "Cultural Self-Knowledge is a filter through which we perceive and interpret our experiences in another cultures. Is the filter you will use to perceive all new knowledge.\n",
        "\n",
        "Head - Basic Knowledge (About culture).\n",
        "Heart - Energy, Confidence, Motivation, Resilience.\n",
        "Body - Act & Interact effectively.\n",
        "\n",
        "**How did you prepare for your international assignments?**\n",
        "\n",
        "**How should a culturally intelligent leader behave in a foreign culture?**\n",
        "\n",
        "**How do you overcome and tascend cultural difference?**\n",
        "\n",
        "Everyone wants respect, success and stick with good people.\n",
        "___\n",
        "\n",
        "\n",
        "Cultural intelligence (CQ) is essential for leading effectively in multicultural settings. Unlike IQ or emotional intelligence (EQ), CQ helps navigate cultural differences in behavior, emotions, and communication.\n",
        "\n",
        "**Key Points:**\n",
        "\n",
        "* Culture is complex and dynamic, influencing how we think, feel, and act.\n",
        "\n",
        "* Emotional intelligence alone isn't enough—emotions are culturally shaped.\n",
        "\n",
        "* CQ involves three components:\n",
        "\n",
        " * Head: Cultural knowledge and awareness.\n",
        "\n",
        " * Heart: Curiosity, openness, and motivation to engage.\n",
        "\n",
        " * Body: Adaptive behavior and communication skills.\n",
        "\n",
        "**Leadership Insights:**\n",
        "\n",
        "* Early exposure to other cultures builds adaptability.\n",
        "\n",
        "* Curiosity, humility, and authenticity build trust across cultures.\n",
        "\n",
        "* Knowing what you don’t know is key—avoid assumptions.\n",
        "\n",
        "* Respect local culture while aligning with company values.\n",
        "\n",
        "* Situational awareness and listening are critical, especially in hierarchical or indirect cultures.\n",
        "\n",
        "Bottom line: To lead globally, develop your head (understanding), heart (attitude), and body (action)—that’s cultural intelligence.\n",
        "\n",
        "\n",
        "___\n"
      ],
      "metadata": {
        "id": "XU8QKzQtaBLd"
      }
    },
    {
      "cell_type": "markdown",
      "source": [
        "## 💠 **Module 3: COMMUNICATING EFFECTIVELY**"
      ],
      "metadata": {
        "id": "gfMXeGFLS_mW"
      }
    },
    {
      "cell_type": "markdown",
      "source": [
        "### ◽**VIDEO LECTURES**"
      ],
      "metadata": {
        "id": "bwbxTDb2S_mZ"
      }
    },
    {
      "cell_type": "markdown",
      "source": [
        "#### **1. Introduction - Communication**"
      ],
      "metadata": {
        "id": "_ygtX5JSS_ma"
      }
    },
    {
      "cell_type": "markdown",
      "source": [
        "SENDER/RECEIVER MODEL + FEEDBACK -> TRANSACTIONAL MODEL (CONTINUOS INTERACTION)\n",
        "\n",
        "Encoding->Message->Channel->Decoding->Feedback\n",
        "\n",
        "* Problem 1. Language Problem. Literal meaning of words.\n",
        "\n",
        "* Problem 2. Semantic Problem. Intrinsic meaning of words.\n",
        "\n",
        "___\n"
      ],
      "metadata": {
        "id": "l0KlQWQJS_ma"
      }
    },
    {
      "cell_type": "markdown",
      "source": [
        "#### **2. Enabling Decision Making**"
      ],
      "metadata": {
        "id": "R2O3UUNP1hqi"
      }
    },
    {
      "cell_type": "markdown",
      "source": [
        "**DIFFERENT CULTURES HAVE DIFFERENT PATTERNS OF COMMUNICATION**\n",
        "\n",
        "What would a rational decision making process look like?\n",
        "\n",
        "- Identify what you want to achieve.\n",
        "- Understand your context.\n",
        "- Understand the problems.\n",
        "- Think in solutions and alternatives.\n",
        " - 1 Uncertainty (too little info)\n",
        " - 2 Equivocality (too much info)\n",
        "\n",
        "**Parts of the process**\n",
        "\n",
        "1. SHARE information. Culture shapes what you see, encourage people to bring differences out. To Encourage Information Sharing\n",
        "  1. Create a Safe Environment. Project Similarity. Low Context vs High Context Cultures.\n",
        "  2. Create Awareness for Differente Communication Styles.\n",
        "  3. Select the Right Channels.\n",
        "\n",
        "2. PROCESS information. It takes equivocality to eliminate equivocality.\n",
        "\n",
        " * MUTUAL ADAPTATION. Illusion of Transparency, Projected Similarity, Pluralistic Ignorance.\n",
        "\n",
        "**INDIVIDUALIST COUNTRIES.** Focus on whatever has to get done to be successful.\n",
        "\n",
        "**COLLECTIVIST COUNTRIES.** Focus on what should done to maintain group harmony and avoid conflict.\n",
        "\n",
        "___\n"
      ],
      "metadata": {
        "id": "mAhYlQSM1hqi"
      }
    },
    {
      "cell_type": "markdown",
      "source": [
        "#### **3. Identity & Relationships Part I**"
      ],
      "metadata": {
        "id": "5oB4X3lu1hwR"
      }
    },
    {
      "cell_type": "markdown",
      "source": [
        "Dimensions of communication.\n",
        "\n",
        "**Framework** > 4 Dimensions of communication:\n",
        "\n",
        " 1. Facts. What are you saying? (The content)\n",
        " 2. Relationship. How do you feel about the person you're talking to?\n",
        " 3. Self-Disclosure. What does your message say about you?\n",
        " 4. Appeal. What do you want the other person to do or think?\n",
        "\n",
        "**Decoding** > Listening With 4 \"Ears\"\n",
        "\n",
        " 1. Facts. How do I understand the content?\n",
        " 2. Relationship. What does this say about how the speaker sees me?\n",
        " 3. Self-Disclosure. What do I learn about the speaker?\n",
        " 4. Appeal. What does the speaker want from me?\n",
        "\n",
        "___\n"
      ],
      "metadata": {
        "id": "Iz9NWj471hwS"
      }
    },
    {
      "cell_type": "markdown",
      "source": [
        "#### **4. Identity & Relationships Part II**"
      ],
      "metadata": {
        "id": "p968BHSo1inR"
      }
    },
    {
      "cell_type": "markdown",
      "source": [
        "-#1 First Impression -> Take care of Timing, Voice, Body Language, Proximity.\n",
        "\n",
        "\"*One of the key responsibilities that you have as a leader is to let others know what you need to be effective*\" -Peter Drucker.\n",
        "\n",
        "Meaning Barriers\n",
        "\n",
        "Language Barriers\n",
        "\n",
        "Stress Commonalities\n",
        "\n",
        "**Leaders can Create/Mantain/Modify Relationships**\n",
        "\n",
        "Dialectical Tensions:\n",
        "\n",
        " - Connection & Distance\n",
        " - Openness & Privacy\n",
        " - Predictability & Novelty\n",
        "\n",
        "\"You only know yourself through the interaction with others\"\n",
        "\n",
        "\n",
        "\n",
        "___\n"
      ],
      "metadata": {
        "id": "AplbXrOS1inS"
      }
    },
    {
      "cell_type": "markdown",
      "source": [
        "#### **5. FOCUS ON RESEARCH - Becoming a More Effective Communicator**"
      ],
      "metadata": {
        "id": "o5oibf2R1izd"
      }
    },
    {
      "cell_type": "markdown",
      "source": [
        "**Communication is a tool to make things happen**\n",
        "\n",
        " * #1 Learn Through New Experiences.\n",
        "\n",
        " * #2 Get Feedback.\n",
        "\n",
        " * #3 Find Role Models.\n",
        "\n",
        "Overall attitudes, the way you face interpersonal and communication situations.\n",
        "\n",
        " 1. Be aware of yourself. What you want and consequent.\n",
        " 2. Accept the differences with people. Finding the way to construct new things with your perspective + the other perspectives.\n",
        " 3. Finding the right balance between emotions and rationality\n",
        "\n",
        "Communication is Intellectual and Physical, Emotional ad Energical.\n",
        "___\n"
      ],
      "metadata": {
        "id": "p3u0NZWt1ize"
      }
    },
    {
      "cell_type": "markdown",
      "source": [
        "#### **6. INTEGRATIVE CASE - Communicating Effectively**"
      ],
      "metadata": {
        "id": "VM4zW477mBlu"
      }
    },
    {
      "cell_type": "markdown",
      "source": [
        "Communication is Intellectual and Physical, Emotional and Energical.\n",
        "\n",
        "* FACTUAL (WHAT)\n",
        "* RELATIONSHIP (FEEL)\n",
        "* APPEAL (OBJECTIVE)\n",
        "* SELF-DISCLOSURE (OPINION)\n",
        "\n",
        "**TIPS!**\n",
        "\n",
        " * POWERFUL QUESTIONS\n",
        " * ACTIVE LISTENING\n",
        " * ATTUNED AUDIENCES NEEDS AND STYLES\n",
        " * RESPECT CULTURAL CONVENTIONS\n",
        " * BE AWARE OF BARRIERS\n",
        " * FIND YOUR OWN STYLE\n",
        "\n",
        "\"*No one would talk much in society if they knew how often they misunderstand others*\" -Goethe\n",
        "___\n"
      ],
      "metadata": {
        "id": "QrNI7FSWmBlv"
      }
    },
    {
      "cell_type": "markdown",
      "source": [
        "## 💠 **Module 4: MOTIVATING FOLLOWERS**"
      ],
      "metadata": {
        "id": "IDMRPs8oP9hI"
      }
    },
    {
      "cell_type": "markdown",
      "source": [
        "### ◽**VIDEO LECTURES**"
      ],
      "metadata": {
        "id": "hna22vTjP_A0"
      }
    },
    {
      "cell_type": "markdown",
      "source": [
        "#### **1. Introduction to Motivating Followers**"
      ],
      "metadata": {
        "id": "nRJ0-UArQAeN"
      }
    },
    {
      "cell_type": "markdown",
      "source": [
        "Motivation could be extrinsic or intrinsic. Intrinsic is fueled by personal values and extrinsic is triggered by recognition or compensation.\n",
        "\n",
        "**Motivation is a complex set of needs:**\n",
        "\n",
        "* Personal\n",
        "* Social\n",
        "* Material\n",
        "* Spiritual\n",
        "\n",
        "Autonomy, Mastery, Purpose\n",
        "\n",
        "___\n"
      ],
      "metadata": {
        "id": "WSSl4O-8QB20"
      }
    },
    {
      "cell_type": "markdown",
      "source": [
        "#### **2. Content Theories**"
      ],
      "metadata": {
        "id": "vC83yrYopwFS"
      }
    },
    {
      "cell_type": "markdown",
      "source": [
        "What motivates people?\n",
        "\n",
        "1. **MASLOW Hierarchy of Needs. / In work needs**\n",
        "  * Physiologial / Salary\n",
        "  * Safety / Security, Autonomy, Trust\n",
        "  * Relationships / Inclusion, Acceptance\n",
        "  * Achievement / Recognition\n",
        "  * Self-Actualization / Sense of purpose\n",
        "\n",
        "2. **McGregor Theory X/Y**\n",
        "  * Theory X. Close supervision and control required to motivate workers.\n",
        "  * Theory Y. Freedom and autonomy required to motivate workers.\n",
        "\n",
        "3. **Herzberg Two-Factor Theory**\n",
        "  * Hygiene Factors & Motivation. Level of conflict with coworkers, Quality of supervision, Salary. Extrinsic to the job.\n",
        "  * Motivators. Meaningful work, Opportunities for growth. Intrinsic to the job.\n",
        "\n",
        "\n",
        "___\n"
      ],
      "metadata": {
        "id": "Mo5viq-ApwFV"
      }
    },
    {
      "cell_type": "markdown",
      "source": [
        "#### **3. Process Theories - Part 1: Learned Needs Theory**"
      ],
      "metadata": {
        "id": "Te4fbHmhvbAA"
      }
    },
    {
      "cell_type": "markdown",
      "source": [
        "How motivation works fundamentally.\n",
        "\n",
        "How individuals form priorities of needs/values driving motivation, choose the effort to put in every activity.\n",
        "\n",
        "**Learned Needs Theory** **David MacCleeland.**\n",
        "\n",
        "Needs & Priorities are not intrinsic, they are learned.\n",
        "* Achievement Motivation.\n",
        "* Affiliation Motivation\n",
        "* Power Motivation\n",
        "\n",
        "\n",
        "\n",
        "\n",
        "___\n"
      ],
      "metadata": {
        "id": "ds0licBBvbAB"
      }
    },
    {
      "cell_type": "markdown",
      "source": [
        "#### **4. Process Theories - Part 2: Expectancy Theory**"
      ],
      "metadata": {
        "id": "lqS29gVOJLC9"
      }
    },
    {
      "cell_type": "markdown",
      "source": [
        "How Individuals Choose The Level Of Effort For Specific Activities.\n",
        "\n",
        "How to desgin objectives & tasks to be motivating.\n",
        "\n",
        "**Learned Needs Theory** **Victor Vroom.**\n",
        "\n",
        "1. **Valence.** How You Feel About A Particular Outcome.\n",
        "\n",
        "Outcomes can have intrinsic valence or could be *instrumental*\n",
        "\n",
        "2. **Expectancy.** How Likely It Is That You Will Achieve A Particular Goal.\n",
        "\n",
        "* Perceived Abilities\n",
        "* Situational Constraints\n",
        "\n",
        "Effort - Performance\n",
        "Reward - Performance\n",
        "Reward - Personal Objectives\n",
        "\n",
        "Self-esteem, self-efficacy, historic success in the task, information needed, good materials and equipment, help from collaborators\n",
        "\n",
        "Define SMART goals (Specific, Measurable, Achievable, Relevant, Time bound)\n",
        "\n",
        "Leaders can provide the rationale for people to work around perceived discrepancies.\n",
        "\n",
        "Motives and motivations can be influenced by leaders with:\n",
        "\n",
        " * Trainings\n",
        " * Role Modeling\n",
        " * SMART Goals\n",
        "\n",
        "\n",
        "___\n"
      ],
      "metadata": {
        "id": "lp4DiJtFJLC9"
      }
    },
    {
      "cell_type": "markdown",
      "source": [
        "#### **5. CASE DISCUSSION - Applying Motivation Theories**"
      ],
      "metadata": {
        "id": "Bbn5MK52gNry"
      }
    },
    {
      "cell_type": "markdown",
      "source": [
        "**1. Policy Review**\n",
        "\n",
        "**Hygiene Factors:**\n",
        "* Safety\n",
        "* Salary\n",
        "\n",
        "**Motivators:**\n",
        "* Benefits\n",
        "* Growth\n",
        "* Training\n",
        "\n",
        "**2. Intreview Key Managers**\n",
        "* Analyze Leadership Style (Theory X / Theory Y)\n",
        "* Compare with Employees Perception and Managers Conception\n",
        "\n",
        "**3. Survey (Individual Level)**\n",
        "* Work Experience\n",
        "* State of Motivation\n",
        "* Understand Diversity\n",
        "* Manage Incentives\n",
        "* Give Feedback\n",
        "\n",
        "**4. Deal with diversity**\n",
        "* Influence on Learned Needs\n",
        "* Influence on Expectancy\n",
        "\n",
        "**5. Group Dynamics**\n",
        "* Trust Leadership\n",
        "* Barriers to Mutual Understanding\n",
        "* Information Sharing\n",
        "\n",
        "Associate EMPOWERING POLICIES to cultural role models at a local level.\n",
        "\n",
        "**6. Contracts**\n",
        "\n",
        "* Analyze the Different Types of Employment Relations.\n",
        "* Balance Individual and Collective Level of Incentives.\n",
        "\n",
        "___\n"
      ],
      "metadata": {
        "id": "lcaBZl0xgNrz"
      }
    },
    {
      "cell_type": "markdown",
      "source": [
        "#### **6. Introduction to Team Motivation**"
      ],
      "metadata": {
        "id": "f6DtFJCMZTZh"
      }
    },
    {
      "cell_type": "markdown",
      "source": [
        "Team context is often critical for individual motivation.\n",
        "\n",
        "**Team potential:**\n",
        "* Sense of Belonging and Loyalty\n",
        "* Social Facilitation\n",
        "* Diversity and Synergies\n",
        "* Division of Labor\n",
        "\n",
        "**Challenges:**\n",
        "* Work in high performing teams\n",
        "* Social Loafing\n",
        "* Evaluation Apprehension\n",
        "* Coordination Losses\n",
        "\n",
        "Challenges in intercultural context: Cultural norms regarding: Hierarchy and Decision Making\n",
        "___\n"
      ],
      "metadata": {
        "id": "MvcDhgN6ZTZi"
      }
    },
    {
      "cell_type": "markdown",
      "source": [
        "#### **7. FOCUS ON RESEARCH - How Sports Coaches Motivate Their Teams**"
      ],
      "metadata": {
        "id": "2YrxjBqKHFYZ"
      }
    },
    {
      "cell_type": "markdown",
      "source": [
        "How do Sports Coaches MOtivate Their Teams?\n",
        "\n",
        "Work hard and play harder.\n",
        "\n",
        "The better you practice, the better you play.\n",
        "\n",
        "Learning and find your best learning way.\n",
        "\n",
        "**Inside the locker room and outside of the locker room**\n",
        "\n",
        "* INSIDE: Individual motivation, team spirit.\n",
        "* OUTSIDE: Manage stakeholders, internal synchronization, keep good environmental reputation.\n",
        "\n",
        "**AUTONOMY, MASTERY, PURPOSE**\n",
        "\n",
        "\n",
        "___\n"
      ],
      "metadata": {
        "id": "bW9uAQjFHFYa"
      }
    },
    {
      "cell_type": "markdown",
      "source": [
        "## 💠 **Module 5: BUILDING PROFESSIONAL NETWORKS**"
      ],
      "metadata": {
        "id": "ceMt_Eoad3aq"
      }
    },
    {
      "cell_type": "markdown",
      "source": [
        "### ◽**VIDEO LECTURES**"
      ],
      "metadata": {
        "id": "VQRdVrO1d1v9"
      }
    },
    {
      "cell_type": "markdown",
      "source": [
        "#### **1. Introduction to Social Networks**"
      ],
      "metadata": {
        "id": "9m8YIr9Pd61G"
      }
    },
    {
      "cell_type": "markdown",
      "source": [
        "**Set of real world relationships (real social networks)**\n",
        "\n",
        "**Leaders and Networks.**\n",
        "\n",
        "* Leaders develop relationships with followers, peers, stakeholders, etc.\n",
        "* Leaders help shape relationships among followers.\n",
        "* Leaders and followers are embedded in and contrained by networks of professional relationships.\n",
        "\n",
        "**SOCIAL CAPITAL**\n",
        "\n",
        "Networks are capital leaders can utilize. As leaders we rely in relations capabilities.\n",
        "\n",
        "**What are social networks made of?**\n",
        "\n",
        "* **NODES:** People in the network.\n",
        "* **TIES:** Content and quality of the relationships.\n",
        "* **STRUCTURE:** Typology of the network.\n",
        "\n",
        "**#1 Consequences:** Explanations for effects of different types of networks for leaders. Interactions between nodes, identify types of relations and differentiate structures.\n",
        "\n",
        "**#2 Antecedents:** Explanations for how networks form and why they differ. Personal qualities of the leader, relational skills, and prior set of relationships.\n",
        "\n",
        "**Care Intercultural perspective always.\n",
        "\n",
        "Facilitating networks is not micro-managing - it's about suggesting contacts who can provide inputs and support, not about telling people how to do their jobs.\n",
        "\n",
        "**Systematic Network Analysis Can Identify:**\n",
        "\n",
        "* Patterns of relationships\n",
        "* People with key roles\n",
        "* Weaknesses and gaps\n",
        "\n",
        "**What kind of network creates value for your organization?**\n",
        "\n",
        "* **Vision 1.** Dense Network. Network Closure.\n",
        "* **Vision 2.** Open Structure. Structural Holes.\n",
        "\n",
        "The best result is obtained when you combine these two perspectives and considering the full context.\n",
        "\n",
        "**Embeddedness.** You are not only shaping your networks, but your networks also shape you.\n",
        "\n",
        "The human is better in group!\n",
        "\n",
        "*Social Networks can dictate behavior and they also enable action.*\n",
        "\n",
        "**OUTLOOK:**\n",
        "1. Close look at consequences of networks.\n",
        "2. Mechanism that shape networks.\n",
        "3. Intercultural differences in networking.\n",
        "\n",
        "___\n"
      ],
      "metadata": {
        "id": "V_FkSCNFanHw"
      }
    },
    {
      "cell_type": "markdown",
      "source": [
        "#### **2. Impact of Social Networks on Organizations and Groups**"
      ],
      "metadata": {
        "id": "nbGr6LPWaePI"
      }
    },
    {
      "cell_type": "markdown",
      "source": [
        "**Closure (Dense Network)**\n",
        "\n",
        "Definition: When people in a network all know each other, creating a \"closed\" or tightly interconnected group\n",
        "Characteristics: High trust, shared norms, strong collaboration, redundant information flow\n",
        "Benefits: Strong social capital, reliable support, easier coordination\n",
        "Drawbacks: Limited access to new information, potential for groupthink, insularity\n",
        "\n",
        "**Brokerage (Structural Holes)**\n",
        "\n",
        "Definition: When someone bridges gaps between different groups that aren't directly connected\n",
        "Characteristics: The person sits between disconnected networks, controlling information flow\n",
        "Benefits: Access to diverse information, ability to spot opportunities, significant influence and control\n",
        "Drawbacks: Potentially weaker ties, more effort required to maintain multiple relationships\n",
        "\n",
        "**Key Distinction**\n",
        "\n",
        "Closure emphasizes the strength and density of connections within a group\n",
        "Brokerage emphasizes the strategic advantage of being positioned between otherwise disconnected groups\n",
        "\n",
        "These concepts are fundamental in understanding how social capital works - whether it's better to be deeply embedded in a tight-knit group or to serve as a bridge between different communities. Each position offers different advantages depending on your goals and context.\n",
        "\n",
        "\n",
        "**Board Interlocks as Info Conduits**\n",
        "Board interlocks create information channels between companies through shared directors who can transfer knowledge, practices, and strategies across organizations.\n",
        "\n",
        "**The Listed Mechanisms:**\n",
        "\n",
        "* **Use of Imitation Strategies:** Companies copy successful practices from other firms through shared board members Directors bring proven strategies from one company to another Reduces uncertainty by following established patterns\n",
        "\n",
        "* Adoption of Organizational Structures: Similar governance structures, reporting relationships, and organizational designs spread across interlocked companies Standardization of management practices and corporate policies\n",
        "\n",
        "* **Poison Pills:** Anti-takeover defenses that make hostile acquisitions prohibitively expensive These defensive strategies spread through networks of interlocked boards Directors share knowledge about protecting companies from unwanted buyouts\n",
        "\n",
        "* **Corporate Acquisition Behavior:** Merger and acquisition strategies, valuation methods, and deal structures are shared Directors bring experience from previous M&A activities to new situations Patterns of acquisition timing and target selection can spread through networks.\n",
        "\n",
        "**Key Insight:** Board interlocks essentially create an informal communication network in the corporate world, facilitating the rapid spread of both strategic innovations and defensive practices across companies that might otherwise operate independently.\n",
        "\n",
        "**Network Analysis - Information Access, Job Mobility, Power**\n",
        "\n",
        "___\n"
      ],
      "metadata": {
        "id": "DHG-5cwJar52"
      }
    },
    {
      "cell_type": "markdown",
      "source": [
        "#### **3. FOCUS ON RESEARCH - How Networks Evolve**"
      ],
      "metadata": {
        "id": "0L9-BhYtdyuA"
      }
    },
    {
      "cell_type": "markdown",
      "source": [
        "\n",
        "**How can we transform networks in social capital?**\n",
        "\n",
        "**How do people establish relationships - Principles:**\n",
        "\n",
        "1. **Homophily** - Bond with similar others. If everyone is similar to you you are not maximizing your access to different resources.\n",
        "2. **Proximity** - Choose people close to us. If only work with near people you are closed to new experiences.\n",
        "3. **Using third parties** - Close Network\n",
        "\n",
        "**How do you reach out new connections?**\n",
        "\n",
        "Look for the right situation. Exchange and Reciprocity. Cultivate your relationships.\n",
        "\n",
        "*Networks are NOT GAINED, are EARNED.*\n",
        "\n",
        "___\n"
      ],
      "metadata": {
        "id": "1ShRn25ZdyuA"
      }
    },
    {
      "cell_type": "markdown",
      "source": [
        "#### **4. INTEGRATIVE CASE - Strategic Approaches**"
      ],
      "metadata": {
        "id": "Q24NekRREBzF"
      }
    },
    {
      "cell_type": "markdown",
      "source": [
        "\n",
        "**How can we transform networks in social capital?**\n",
        "\n",
        "___\n"
      ],
      "metadata": {
        "id": "FMQQRw2xEBzG"
      }
    }
  ]
}