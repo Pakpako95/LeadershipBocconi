{
  "nbformat": 4,
  "nbformat_minor": 0,
  "metadata": {
    "colab": {
      "provenance": [],
      "collapsed_sections": [
        "81qjUchuZywx",
        "txnrpHUEfyZP",
        "T-Cv0335aDXG",
        "1bP-b1X9aJ4N",
        "FD3TxZzoZ8px",
        "K0rsHfG0f3kY",
        "hTnY-OWsjOwP",
        "nz8_Z1-VLjiy",
        "uvGUM1NM2kmk",
        "lF87W9PO73NA",
        "25AEBSFqX9Y9",
        "7uSnZ-0DYK3O"
      ],
      "authorship_tag": "ABX9TyPI/Fm461uVbqTvwctrQrTY",
      "include_colab_link": true
    },
    "kernelspec": {
      "name": "python3",
      "display_name": "Python 3"
    },
    "language_info": {
      "name": "python"
    }
  },
  "cells": [
    {
      "cell_type": "markdown",
      "metadata": {
        "id": "view-in-github",
        "colab_type": "text"
      },
      "source": [
        "<a href=\"https://colab.research.google.com/github/Pakpako95/LeadershipBocconi/blob/main/LeadershipBocconi.ipynb\" target=\"_parent\"><img src=\"https://colab.research.google.com/assets/colab-badge.svg\" alt=\"Open In Colab\"/></a>"
      ]
    },
    {
      "cell_type": "markdown",
      "source": [
        "# 🌐 **International Leadership and Organizational Behavior**"
      ],
      "metadata": {
        "id": "jTKQul4FZssd"
      }
    },
    {
      "cell_type": "markdown",
      "source": [
        "## 💠 **Module 1: LEADERSHIP ACUMEN**"
      ],
      "metadata": {
        "id": "81qjUchuZywx"
      }
    },
    {
      "cell_type": "markdown",
      "source": [
        "### ◽**COURSE OVERVIEW**"
      ],
      "metadata": {
        "id": "txnrpHUEfyZP"
      }
    },
    {
      "cell_type": "markdown",
      "source": [
        "#### **Introduction to the Course**"
      ],
      "metadata": {
        "id": "T-Cv0335aDXG"
      }
    },
    {
      "cell_type": "markdown",
      "source": [
        "**Benefit #1: Prepare for Your International Leadership Challenges**\n",
        "\n",
        " \"*Fortune favors the prepared mind*\" -*Louis Pasteur*\n",
        "\n",
        "**Benefit #2: Reflect on Your Own International Experience**\n",
        "\n",
        " \"*The unreflected life is not worth Living*\" -*Socrates*\n",
        "\n",
        " ___\n"
      ],
      "metadata": {
        "id": "-KCj2RFwbJ99"
      }
    },
    {
      "cell_type": "markdown",
      "source": [
        "**Our perspective on leadership (6 topic areas):**\n",
        "\n",
        "* ACUMEN\n",
        "* CULTURE\n",
        "* COMMUNICATION\n",
        "* MOTIVATION\n",
        "* SOCIAL NETWORKS\n",
        "* CONFLICT\n",
        "___"
      ],
      "metadata": {
        "id": "cqB4UEyRckTp"
      }
    },
    {
      "cell_type": "markdown",
      "source": [
        "**Two sets of dialectical tensions:**\n",
        "\n",
        "1. Global Issues\n",
        "2. Local Issues\n",
        "\n",
        "It is possible to integrate the global and the local, we can leverage local inside for global vision.\n",
        "\n",
        "**The second dimension of the framework:**\n",
        "\n",
        "1. Challenge\n",
        "2. Support\n",
        "\n",
        "Effective leaders support its followers but also challenge them.\n",
        "\n",
        "___\n",
        "\n"
      ],
      "metadata": {
        "id": "uN1NrwoTc2Bk"
      }
    },
    {
      "cell_type": "markdown",
      "source": [
        "#### **Surviving the Course**"
      ],
      "metadata": {
        "id": "1bP-b1X9aJ4N"
      }
    },
    {
      "cell_type": "markdown",
      "source": [
        "How can I effectively communicate across language barriers?\n",
        "\n",
        "How can I motivate individuals and teams if they have fundamentally different assumptions and values than myself?\n",
        "\n",
        "How can I foster and nurture relationships and networks across cultural and geographic divides?\n",
        "\n",
        "How can I manage conflicts?\n",
        "\n",
        "\n",
        "If you really want to learn how organizations behave and take decisions and at the same time develop leadership skills, then this is the course for you."
      ],
      "metadata": {
        "id": "ZW-WGtBDerKZ"
      }
    },
    {
      "cell_type": "markdown",
      "source": [
        "Why to take this course?\n",
        "\n",
        "**I just arrived in Milan from Mexico. I held a leadership position in Mexico, and I aim to achieve a similar role here in Italy. I’m confident that this course will help me clarify some ideas and better understand how to work within an organization that has a different culture, language, and way of working.  :)**"
      ],
      "metadata": {
        "id": "5r2CbeRefp-d"
      }
    },
    {
      "cell_type": "markdown",
      "source": [
        "### ◽**VIDEO LECTURES**"
      ],
      "metadata": {
        "id": "FD3TxZzoZ8px"
      }
    },
    {
      "cell_type": "markdown",
      "source": [
        "#### **Video 1. Introduction - Three Principles of Leadership**"
      ],
      "metadata": {
        "id": "K0rsHfG0f3kY"
      }
    },
    {
      "cell_type": "markdown",
      "source": [
        "**Principle #1. There is no standard formula for leadership. All leaders have their own unique approach.**\n",
        "\n",
        "Try to find your own style!\n",
        "\n",
        "**Principle #2. Leaders and followers have an interdependent relationship**\n",
        "\n",
        "Help your followers to be better!\n",
        "\n",
        "**Principle #3. Leaders need to be adaptive and flexible to be able to respond to a wide variety of circumstances**\n",
        "\n",
        "Adaptation is key!\n",
        "\n",
        "___\n"
      ],
      "metadata": {
        "id": "sPTnR3CqgATF"
      }
    },
    {
      "cell_type": "markdown",
      "source": [
        "#### **Video 2. FOCUS ON RESEARCH - Leadership from an International Organizational Behavior Perspective**"
      ],
      "metadata": {
        "id": "hTnY-OWsjOwP"
      }
    },
    {
      "cell_type": "markdown",
      "source": [
        "**Organization Behavior Research.**\n",
        "\n",
        "**OB Perspective in few words.** **Organizational Behavior (OB).** Explains differences and commonalities in individual and collective behavior in organizations with social science research.\n",
        "\n",
        "* Rigorous empirial research methods\n",
        "* High standards for developing generizable knowledge\n",
        "\n",
        "Strong emphasis in scientific approach to leadership. Understand the parts to make a result together.\n",
        "\n",
        "The International OB expplains differences and commonalitites in individual and collective behavior across countries or regions.\n",
        "\n",
        "* **Macro-Approach** -> Focus on country/regional level differences in cultural values, forms, etc.\n",
        "\n",
        "* **Micro-Approach** -> Focus on differences in cognitive and other psychological processes.\n",
        "\n",
        "Undestanding human behavior is basic to influence humans. Pay attention to people, understand differences, work with individuals.\n",
        "\n",
        "\"*There is nothing as practical as a good theory.*\" -*Kurt Lewin*\n",
        "___\n"
      ],
      "metadata": {
        "id": "1xgMjyTFgNq-"
      }
    },
    {
      "cell_type": "markdown",
      "source": [
        "#### **Video 3. FOCUS ON PRACTICE - Leadership Challenges**"
      ],
      "metadata": {
        "id": "nz8_Z1-VLjiy"
      }
    },
    {
      "cell_type": "markdown",
      "source": [
        "\n",
        "**COMPLEXITY:** Differences between countries. Local vision, local culture, economics.\n",
        "\n",
        "**UNCERTAINTY:** Doesn't know which will be the reaction, and this is exponential with different cultures.\n",
        "\n",
        "**RELATIONSHIPS:** People could not accept a foreign as a leader. **Tip:** Create a common ground.\n",
        "\n",
        "Leaders integrate, help their people to grow, understand their people. A leader needs followers. Always works in priorities. Work with clarity, be open to a different ways. Explain how you contribute and you have to interprate the local culture. Unifiy the vision. Choose your battles. Detect the behavior you must adopt depending of the kind of people.\n",
        "\n",
        "___\n"
      ],
      "metadata": {
        "id": "hYPgFhCcgNuE"
      }
    },
    {
      "cell_type": "markdown",
      "source": [
        "#### **Video 4. FOCUS ON PRACTICE - Leadership Opportunities**"
      ],
      "metadata": {
        "id": "uvGUM1NM2kmk"
      }
    },
    {
      "cell_type": "markdown",
      "source": [
        "**Leadership Opportunities**\n",
        "\n",
        "Embrace international leadership.\n",
        "\n",
        "Every country is a different stage, a different competition... Your growth is faster when you work in different countries. This multiplies the learning. You can learn from differences and multiculturality. It is a great opportunity to focus in what really matters not being distracted with styles.\n",
        "\n",
        "It helps to give you a new perspective, it gives you the opportunity to detect a global perspective, the barriers, pros and cons to collaborate. As international leader also you can make connections, foster connections.\n",
        "\n",
        "Develop leader capacity in challenging context. You must work harder to earn your leadership position and reflect in what makes a good leadership and experience with new leadership approaches.\n",
        "\n",
        "Global collaboration, share and learn. You can get significant alliances, take the strenghs of every culture and learn to be transnational leader.\n",
        "\n",
        "\n",
        "___\n"
      ],
      "metadata": {
        "id": "_LJfNAWNgNxG"
      }
    },
    {
      "cell_type": "markdown",
      "source": [
        "## 💠 **Module 2: NAVIGATING CULTURES**"
      ],
      "metadata": {
        "id": "5MLlL0Wy7yIo"
      }
    },
    {
      "cell_type": "markdown",
      "source": [
        "### ◽**VIDEO LECTURES**"
      ],
      "metadata": {
        "id": "q4q3Zl2y71XC"
      }
    },
    {
      "cell_type": "markdown",
      "source": [
        "#### **1. Introduction - Navigating Cultures**"
      ],
      "metadata": {
        "id": "lF87W9PO73NA"
      }
    },
    {
      "cell_type": "markdown",
      "source": [
        "**Defining Culture:** Internalized societal and cultural norms. Box of readily available tools.\n",
        "\n",
        "Culture provides you with these tools to interpret ambiguous cues.\n",
        "\n",
        "Frameworks to make cultural complexity more manageable is to dissect and classify elements to understand how the cultures operate. Other way is to fin differences and the unifiy.\n",
        "\n",
        "**Framework #1: Culture Onion**\n",
        "\n",
        "1. Artifacts (Visible) -> Outside\n",
        "2. Values (Espoused) Outside to Inside\n",
        "3. Assumptions (Hidden) -> Inside\n",
        "\n",
        "**Framework #2: Culture Dimensions**\n",
        "\n",
        "* **High Context:** meaning is implied by relationships, situations, etc.\n",
        "* **Low Context:** meaning is made explicit (usually verbally)\n",
        "\n",
        "Hofstede Culture Dimensions\n",
        "\n",
        "* High v Low Power Distance\n",
        "* High v Low Uncertainty Avoidance\n",
        "* Individualism v Collectivism\n",
        "* Feminity v Masculinity\n",
        "* Short Term v Long Term orientation\n",
        "* Indulgence v Restraint\n",
        "___\n"
      ],
      "metadata": {
        "id": "TLES4ksR75V4"
      }
    },
    {
      "cell_type": "markdown",
      "source": [
        "#### **2. FOCUS ON RESEARCH - Implicit Theories of Culture in Our Heads**"
      ],
      "metadata": {
        "id": "25AEBSFqX9Y9"
      }
    },
    {
      "cell_type": "markdown",
      "source": [
        "xxx\n",
        "___\n"
      ],
      "metadata": {
        "id": "i8nsxc5OX9Y-"
      }
    },
    {
      "cell_type": "markdown",
      "source": [
        "#### **3. CASE DISCUSSION - Decoding Cultures**"
      ],
      "metadata": {
        "id": "7uSnZ-0DYK3O"
      }
    },
    {
      "cell_type": "markdown",
      "source": [
        "xxx\n",
        "___\n"
      ],
      "metadata": {
        "id": "RxJD9E_cYK3O"
      }
    },
    {
      "cell_type": "markdown",
      "source": [
        "#### **4. FOCUS ON PRACTICE - Cultural Intelligence**"
      ],
      "metadata": {
        "id": "BU93Z568aBLc"
      }
    },
    {
      "cell_type": "markdown",
      "source": [
        "xxx\n",
        "___\n"
      ],
      "metadata": {
        "id": "XU8QKzQtaBLd"
      }
    }
  ]
}