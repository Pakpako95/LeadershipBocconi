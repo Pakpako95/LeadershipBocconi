{
  "nbformat": 4,
  "nbformat_minor": 0,
  "metadata": {
    "colab": {
      "provenance": [],
      "authorship_tag": "ABX9TyPz+C+a+BBA0fpG0K+x2HSa",
      "include_colab_link": true
    },
    "kernelspec": {
      "name": "python3",
      "display_name": "Python 3"
    },
    "language_info": {
      "name": "python"
    }
  },
  "cells": [
    {
      "cell_type": "markdown",
      "metadata": {
        "id": "view-in-github",
        "colab_type": "text"
      },
      "source": [
        "<a href=\"https://colab.research.google.com/github/Pakpako95/LeadershipBocconi/blob/main/LeadershipBocconi.ipynb\" target=\"_parent\"><img src=\"https://colab.research.google.com/assets/colab-badge.svg\" alt=\"Open In Colab\"/></a>"
      ]
    },
    {
      "cell_type": "markdown",
      "source": [
        "# 🌐 **International Leadership and Organizational Behavior**"
      ],
      "metadata": {
        "id": "jTKQul4FZssd"
      }
    },
    {
      "cell_type": "markdown",
      "source": [
        "## 💠 **Module 1: LEADERSHIP ACUMEN**"
      ],
      "metadata": {
        "id": "81qjUchuZywx"
      }
    },
    {
      "cell_type": "markdown",
      "source": [
        "### ◽**COURSE OVERVIEW**"
      ],
      "metadata": {
        "id": "txnrpHUEfyZP"
      }
    },
    {
      "cell_type": "markdown",
      "source": [
        "#### **Introduction to the Course**"
      ],
      "metadata": {
        "id": "T-Cv0335aDXG"
      }
    },
    {
      "cell_type": "markdown",
      "source": [
        "**Benefit #1: Prepare for Your International Leadership Challenges**\n",
        "\n",
        " \"*Fortune favors the prepared mind*\" -*Louis Pasteur*\n",
        "\n",
        "**Benefit #2: Reflect on Your Own International Experience**\n",
        "\n",
        " \"*The unreflected life is not worth Living*\" -*Socrates*\n",
        "\n",
        " ___\n"
      ],
      "metadata": {
        "id": "-KCj2RFwbJ99"
      }
    },
    {
      "cell_type": "markdown",
      "source": [
        "**Our perspective on leadership (6 topic areas):**\n",
        "\n",
        "* ACUMEN\n",
        "* CULTURE\n",
        "* COMMUNICATION\n",
        "* MOTIVATION\n",
        "* SOCIAL NETWORKS\n",
        "* CONFLICT\n",
        "___"
      ],
      "metadata": {
        "id": "cqB4UEyRckTp"
      }
    },
    {
      "cell_type": "markdown",
      "source": [
        "**Two sets of dialectical tensions:**\n",
        "\n",
        "1. Global Issues\n",
        "2. Local Issues\n",
        "\n",
        "It is possible to integrate the global and the local, we can leverage local inside for global vision.\n",
        "\n",
        "**The second dimension of the framework:**\n",
        "\n",
        "1. Challenge\n",
        "2. Support\n",
        "\n",
        "Effective leaders support its followers but also challenge them.\n",
        "\n",
        "___\n",
        "\n"
      ],
      "metadata": {
        "id": "uN1NrwoTc2Bk"
      }
    },
    {
      "cell_type": "markdown",
      "source": [
        "#### **Surviving the Course**"
      ],
      "metadata": {
        "id": "1bP-b1X9aJ4N"
      }
    },
    {
      "cell_type": "markdown",
      "source": [
        "How can I effectively communicate across language barriers?\n",
        "\n",
        "How can I motivate individuals and teams if they have fundamentally different assumptions and values than myself?\n",
        "\n",
        "How can I foster and nurture relationships and networks across cultural and geographic divides?\n",
        "\n",
        "How can I manage conflicts?\n",
        "\n",
        "\n",
        "If you really want to learn how organizations behave and take decisions and at the same time develop leadership skills, then this is the course for you."
      ],
      "metadata": {
        "id": "ZW-WGtBDerKZ"
      }
    },
    {
      "cell_type": "markdown",
      "source": [
        "Why to take this course?\n",
        "\n",
        "**I just arrived in Milan from Mexico. I held a leadership position in Mexico, and I aim to achieve a similar role here in Italy. I’m confident that this course will help me clarify some ideas and better understand how to work within an organization that has a different culture, language, and way of working.  :)**"
      ],
      "metadata": {
        "id": "5r2CbeRefp-d"
      }
    },
    {
      "cell_type": "markdown",
      "source": [
        "### ◽**VIDEO LECTURES**"
      ],
      "metadata": {
        "id": "FD3TxZzoZ8px"
      }
    },
    {
      "cell_type": "markdown",
      "source": [
        "#### **Video 1. Introduction - Three Principles of Leadership**"
      ],
      "metadata": {
        "id": "K0rsHfG0f3kY"
      }
    },
    {
      "cell_type": "markdown",
      "source": [
        "**Principle #1. There is no standard formula for leadership. All leaders have their own unique approach.**\n",
        "\n",
        "Try to find your own style!\n",
        "\n",
        "**Principle #2. Leaders and followers have an interdependent relationship**\n",
        "\n",
        "Help your followers to be better!\n",
        "\n",
        "**Principle #3. Leaders need to be adaptive and flexible to be able to respond to a wide variety of circumstances**\n",
        "\n",
        "Adaptation is key!\n",
        "\n",
        "___\n"
      ],
      "metadata": {
        "id": "sPTnR3CqgATF"
      }
    },
    {
      "cell_type": "markdown",
      "source": [
        "#### **Video 2. FOCUS ON RESEARCH - Leadership from an International Organizational Behavior Perspective**"
      ],
      "metadata": {
        "id": "hTnY-OWsjOwP"
      }
    },
    {
      "cell_type": "markdown",
      "source": [
        "**Organization Behavior Research.**\n",
        "\n",
        "**OB Perspective in few words.** **Organizational Behavior (OB).** Explains differences and commonalities in individual and collective behavior in organizations with social science research.\n",
        "\n",
        "* Rigorous empirial research methods\n",
        "* High standards for developing generizable knowledge\n",
        "\n",
        "Strong emphasis in scientific approach to leadership. Understand the parts to make a result together.\n",
        "\n",
        "The International OB expplains differences and commonalitites in individual and collective behavior across countries or regions.\n",
        "\n",
        "* **Macro-Approach** -> Focus on country/regional level differences in cultural values, forms, etc.\n",
        "\n",
        "* **Micro-Approach** -> Focus on differences in cognitive and other psychological processes.\n",
        "\n",
        "Undestanding human behavior is basic to influence humans. Pay attention to people, understand differences, work with individuals.\n",
        "___\n"
      ],
      "metadata": {
        "id": "1xgMjyTFgNq-"
      }
    },
    {
      "cell_type": "markdown",
      "source": [
        "#### **Video 3. FOCUS ON PRACTICE - Leadership Challenges**"
      ],
      "metadata": {
        "id": "nz8_Z1-VLjiy"
      }
    },
    {
      "cell_type": "markdown",
      "source": [
        "xxx\n",
        "\n",
        "___\n"
      ],
      "metadata": {
        "id": "hYPgFhCcgNuE"
      }
    },
    {
      "cell_type": "markdown",
      "source": [
        "\n",
        "___\n"
      ],
      "metadata": {
        "id": "_LJfNAWNgNxG"
      }
    }
  ]
}